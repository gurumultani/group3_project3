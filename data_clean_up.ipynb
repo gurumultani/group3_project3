{
 "cells": [
  {
   "cell_type": "code",
   "execution_count": 16,
   "metadata": {},
   "outputs": [
    {
     "name": "stdout",
     "output_type": "stream",
     "text": [
      "Raw data downloaded and saved as raw_data.csv\n"
     ]
    }
   ],
   "source": [
    "import requests\n",
    "import pandas as pd\n",
    "import csv\n",
    "import re\n",
    "\n",
    "# URL of the CSV file\n",
    "url = \"https://raw.githubusercontent.com/googletrends/data/master/20220404_environmental_issues_country_timeline.csv\"\n",
    "\n",
    "# Define the filename for the raw data\n",
    "raw_data_file = \"raw_data.csv\"\n",
    "\n",
    "# Step 1: Download the CSV file\n",
    "response = requests.get(url)\n",
    "\n",
    "# Check if the request was successful\n",
    "if response.status_code == 200:\n",
    "    # Save the raw data to a file\n",
    "    with open(raw_data_file, \"wb\") as f:\n",
    "        f.write(response.content)\n",
    "    print(\"Raw data downloaded and saved as\", raw_data_file)\n"
   ]
  },
  {
   "cell_type": "code",
   "execution_count": 17,
   "metadata": {},
   "outputs": [
    {
     "name": "stdout",
     "output_type": "stream",
     "text": [
      "Columns in the CSV file:\n",
      "Unnamed: 0\n",
      "topic\n",
      "country\n",
      "index_trends\n",
      "year\n",
      "country_code\n"
     ]
    }
   ],
   "source": [
    "\n",
    "# Load the CSV file into a DataFrame\n",
    "df = pd.read_csv(\"raw_data.csv\")\n",
    "\n",
    "# Display the columns\n",
    "print(\"Columns in the CSV file:\")\n",
    "for column in df.columns:\n",
    "    print(column)\n"
   ]
  },
  {
   "cell_type": "code",
   "execution_count": 18,
   "metadata": {},
   "outputs": [
    {
     "name": "stdout",
     "output_type": "stream",
     "text": [
      "Columns in the CSV file after renaming:\n",
      "No\n",
      "topic\n",
      "country\n",
      "index_trends\n",
      "year\n",
      "country_code\n"
     ]
    }
   ],
   "source": [
    "\n",
    "# Load the CSV file into a DataFrame\n",
    "df = pd.read_csv(\"raw_data.csv\")\n",
    "\n",
    "# Rename the \"Unnamed: 0\" column to \"No\"\n",
    "df.rename(columns={\"Unnamed: 0\": \"No\"}, inplace=True)\n",
    "\n",
    "# Display the updated columns\n",
    "print(\"Columns in the CSV file after renaming:\")\n",
    "for column in df.columns:\n",
    "    print(column)\n"
   ]
  },
  {
   "cell_type": "code",
   "execution_count": 19,
   "metadata": {},
   "outputs": [
    {
     "name": "stdout",
     "output_type": "stream",
     "text": [
      "            No          topic         country  index_trends  year country_code\n",
      "8            9  Air pollution     Afghanistan          77.0  2020           af\n",
      "32          33  Air pollution         Albania          79.2  2020           al\n",
      "33          34  Air pollution         Albania          78.8  2021           al\n",
      "34          35  Air pollution         Albania          88.5  2022           al\n",
      "68          69  Air pollution         Andorra         100.0  2020           ad\n",
      "...        ...            ...             ...           ...   ...          ...\n",
      "119961  119962       Wildfire  Western Sahara         100.0  2021           eh\n",
      "119962  119963       Wildfire  Western Sahara          90.2  2022           eh\n",
      "119973  119974       Wildfire           Yemen          86.3  2021           ye\n",
      "119996  119997       Wildfire        Zimbabwe          82.6  2020           zw\n",
      "119998  119999       Wildfire        Zimbabwe          85.8  2022           zw\n",
      "\n",
      "[7562 rows x 6 columns]\n"
     ]
    }
   ],
   "source": [
    "# Load the CSV file into a DataFrame\n",
    "df = pd.read_csv(\"raw_data.csv\")\n",
    "\n",
    "# Rename the \"Unnamed: 0\" column to \"No\"\n",
    "df.rename(columns={\"Unnamed: 0\": \"No\"}, inplace=True)\n",
    "\n",
    "# Convert the \"year\" column to datetime format\n",
    "df['year'] = pd.to_datetime(df['year'], format='%Y')\n",
    "\n",
    "# Extract only the year and store it in a new column\n",
    "df['year'] = df['year'].dt.year\n",
    "\n",
    "# Filter rows based on date range and \"index_trends\" value (only include values >= 70)\n",
    "filtered_df = df[(df['year'] >= 2020) & (df['year'] <= 2022) & (df['index_trends'] >= 70)]\n",
    "\n",
    "# Remove rows with missing values\n",
    "filtered_df = filtered_df.dropna()\n",
    "\n",
    "# Remove rows with special characters in the \"country\" column\n",
    "filtered_df = filtered_df[filtered_df['country'].apply(lambda x: bool(re.match(r'^[a-zA-Z\\s]+$', str(x))))]\n",
    "\n",
    "# Display the filtered DataFrame\n",
    "print(filtered_df)\n"
   ]
  },
  {
   "cell_type": "code",
   "execution_count": 20,
   "metadata": {},
   "outputs": [],
   "source": [
    "# Save the cleaned data to a new CSV file\n",
    "filtered_df.to_csv(\"cleaned_data.csv\", index=False)"
   ]
  }
 ],
 "metadata": {
  "kernelspec": {
   "display_name": "env",
   "language": "python",
   "name": "python3"
  },
  "language_info": {
   "codemirror_mode": {
    "name": "ipython",
    "version": 3
   },
   "file_extension": ".py",
   "mimetype": "text/x-python",
   "name": "python",
   "nbconvert_exporter": "python",
   "pygments_lexer": "ipython3",
   "version": "3.10.12"
  },
  "orig_nbformat": 4
 },
 "nbformat": 4,
 "nbformat_minor": 2
}
